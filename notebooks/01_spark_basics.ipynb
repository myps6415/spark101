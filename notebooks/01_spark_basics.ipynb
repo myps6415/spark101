{
 "cells": [
  {
   "cell_type": "markdown",
   "metadata": {},
   "source": [
    "# 第1章：Spark 基礎概念\n",
    "\n",
    "## 學習目標\n",
    "- 理解 Apache Spark 的基本概念\n",
    "- 掌握 SparkSession 的創建和使用\n",
    "- 學會第一個 Spark 程式的編寫\n",
    "- 了解 Spark 的核心架構"
   ]
  },
  {
   "cell_type": "markdown",
   "metadata": {},
   "source": [
    "## 環境設置\n",
    "首先確保 Spark 環境已經正確設置"
   ]
  },
  {
   "cell_type": "code",
   "execution_count": null,
   "metadata": {},
   "outputs": [],
   "source": [
    "# 導入必要的模組\n",
    "import findspark\n",
    "findspark.init()\n",
    "\n",
    "from pyspark.sql import SparkSession\n",
    "from pyspark.sql.functions import col, when\n",
    "import pandas as pd"
   ]
  },
  {
   "cell_type": "markdown",
   "metadata": {},
   "source": [
    "## 創建 SparkSession"
   ]
  },
  {
   "cell_type": "code",
   "execution_count": null,
   "metadata": {},
   "outputs": [],
   "source": [
    "# 創建 SparkSession\n",
    "spark = SparkSession.builder \\\n",
    "    .appName(\"Spark基礎概念\") \\\n",
    "    .master(\"local[*]\") \\\n",
    "    .getOrCreate()\n",
    "\n",
    "print(\"🎉 歡迎來到 Spark 101！\")\n",
    "print(f\"Spark 版本: {spark.version}\")\n",
    "print(f\"Spark 應用程式名稱: {spark.sparkContext.appName}\")"
   ]
  },
  {
   "cell_type": "markdown",
   "metadata": {},
   "source": [
    "## 創建第一個 DataFrame"
   ]
  },
  {
   "cell_type": "code",
   "execution_count": null,
   "metadata": {},
   "outputs": [],
   "source": [
    "# 創建簡單的 DataFrame\n",
    "data = [\n",
    "    (\"Alice\", 25, \"Engineer\"),\n",
    "    (\"Bob\", 30, \"Manager\"),\n",
    "    (\"Charlie\", 35, \"Designer\"),\n",
    "    (\"Diana\", 28, \"Analyst\")\n",
    "]\n",
    "\n",
    "columns = [\"name\", \"age\", \"job\"]\n",
    "df = spark.createDataFrame(data, columns)\n",
    "\n",
    "print(\"📊 創建的 DataFrame:\")\n",
    "df.show()"
   ]
  },
  {
   "cell_type": "markdown",
   "metadata": {},
   "source": [
    "## DataFrame 基本操作"
   ]
  },
  {
   "cell_type": "code",
   "execution_count": null,
   "metadata": {},
   "outputs": [],
   "source": [
    "# 查看 DataFrame 結構\n",
    "print(\"📋 DataFrame 結構:\")\n",
    "df.printSchema()"
   ]
  },
  {
   "cell_type": "code",
   "execution_count": null,
   "metadata": {},
   "outputs": [],
   "source": [
    "# 基本統計信息\n",
    "print(\"📈 基本統計信息:\")\n",
    "df.describe().show()"
   ]
  },
  {
   "cell_type": "code",
   "execution_count": null,
   "metadata": {},
   "outputs": [],
   "source": [
    "# 過濾操作\n",
    "print(\"🔍 年齡大於 28 的人:\")\n",
    "df.filter(col(\"age\") > 28).show()"
   ]
  },
  {
   "cell_type": "code",
   "execution_count": null,
   "metadata": {},
   "outputs": [],
   "source": [
    "# 選擇特定列\n",
    "print(\"📝 選擇姓名和年齡:\")\n",
    "df.select(\"name\", \"age\").show()"
   ]
  },
  {
   "cell_type": "code",
   "execution_count": null,
   "metadata": {},
   "outputs": [],
   "source": [
    "# 添加新列\n",
    "print(\"➕ 添加年齡分組:\")\n",
    "df_with_group = df.withColumn(\"age_group\", \n",
    "                             when(col(\"age\") < 30, \"Young\")\n",
    "                             .otherwise(\"Senior\"))\n",
    "df_with_group.show()"
   ]
  },
  {
   "cell_type": "markdown",
   "metadata": {},
   "source": [
    "## 與 Pandas 的比較"
   ]
  },
  {
   "cell_type": "code",
   "execution_count": null,
   "metadata": {},
   "outputs": [],
   "source": [
    "# 轉換為 Pandas DataFrame\n",
    "pandas_df = df.toPandas()\n",
    "print(\"🐼 轉換為 Pandas DataFrame:\")\n",
    "display(pandas_df)"
   ]
  },
  {
   "cell_type": "code",
   "execution_count": null,
   "metadata": {},
   "outputs": [],
   "source": [
    "# 從 Pandas 創建 Spark DataFrame\n",
    "spark_df_from_pandas = spark.createDataFrame(pandas_df)\n",
    "print(\"🔄 從 Pandas 創建 Spark DataFrame:\")\n",
    "spark_df_from_pandas.show()"
   ]
  },
  {
   "cell_type": "markdown",
   "metadata": {},
   "source": [
    "## 練習題"
   ]
  },
  {
   "cell_type": "markdown",
   "metadata": {},
   "source": [
    "### 練習1：創建自己的 DataFrame\n",
    "創建一個包含學生信息的 DataFrame，包含姓名、年齡、科系、成績等欄位"
   ]
  },
  {
   "cell_type": "code",
   "execution_count": null,
   "metadata": {},
   "outputs": [],
   "source": [
    "# 在這裡寫你的代碼\n",
    "# 提示：使用 spark.createDataFrame() 方法\n",
    "\n",
    "# 你的代碼在此\n"
   ]
  },
  {
   "cell_type": "markdown",
   "metadata": {},
   "source": [
    "### 練習2：DataFrame 操作\n",
    "1. 篩選出成績大於 80 的學生\n",
    "2. 計算每個科系的平均成績\n",
    "3. 添加一個成績等級欄位（A: 90+, B: 80-89, C: 70-79, D: <70）"
   ]
  },
  {
   "cell_type": "code",
   "execution_count": null,
   "metadata": {},
   "outputs": [],
   "source": [
    "# 在這裡寫你的代碼\n",
    "\n",
    "# 你的代碼在此\n"
   ]
  },
  {
   "cell_type": "markdown",
   "metadata": {},
   "source": [
    "## 清理資源"
   ]
  },
  {
   "cell_type": "code",
   "execution_count": null,
   "metadata": {},
   "outputs": [],
   "source": [
    "# 停止 SparkSession\n",
    "spark.stop()\n",
    "print(\"✅ Spark 應用程式已結束\")"
   ]
  },
  {
   "cell_type": "markdown",
   "metadata": {},
   "source": [
    "## 總結\n",
    "\n",
    "在本章中，我們學習了：\n",
    "\n",
    "1. **SparkSession 的創建** - Spark 應用程式的入口點\n",
    "2. **DataFrame 的基本操作** - 創建、查看、篩選、轉換\n",
    "3. **與 Pandas 的互操作** - 數據框架之間的轉換\n",
    "4. **基本的數據操作** - 選擇、過濾、添加列\n",
    "\n",
    "### 下一步\n",
    "- 繼續學習 [第2章：RDD 基本操作](02_rdd_operations.ipynb)\n",
    "- 深入了解 Spark 的分散式計算模型\n",
    "- 探索更多 DataFrame API"
   ]
  }
 ],
 "metadata": {
  "kernelspec": {
   "display_name": "Python 3",
   "language": "python",
   "name": "python3"
  },
  "language_info": {
   "codemirror_mode": {
    "name": "ipython",
    "version": 3
   },
   "file_extension": ".py",
   "name": "python",
   "nbconvert_exporter": "python",
   "pygments_lexer": "ipython3",
   "version": "3.8.0"
  }
 },
 "nbformat": 4,
 "nbformat_minor": 4
}